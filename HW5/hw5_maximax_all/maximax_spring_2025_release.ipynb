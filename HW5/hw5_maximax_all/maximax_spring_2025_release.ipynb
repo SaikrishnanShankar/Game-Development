{
  "cells": [
    {
      "cell_type": "markdown",
      "metadata": {
        "id": "ixWe6_uKzLUg"
      },
      "source": [
        "# Game Playing Agents #\n",
        "\n",
        "In this project, we will implement a variation of **Minimax** to play a simple strategic game.\n",
        "\n",
        "The game is played on a 2D grid on which there are a number of enemy bases. The agent must destroy the enemy bases to win the game. Here is an example of a 5x5 map:\n",
        "\n",
        "```\n",
        "[] T3 [] B1 []\n",
        "[] [] T2 [] []\n",
        "A  [] [] [] []\n",
        "[] T1 [] T0 []\n",
        "[] [] T4 [] B0\n",
        "```\n",
        "The agent is specified by `A`. There are two bases, `B0` and `B1`. There are five towers: `T0` through `T4`.\n",
        "\n",
        "Towers are and bases are automatically destroyed when the agent encounters them and they are no longer invincible. But when the agent encounters invincible towers and bases, the agent is automatically killed. This game emulates the high-level strategic planning, wherein an encounter between the agent and a tower or base might represent a drawn-out firefight.\n",
        "\n",
        "However, the towers must be destroyed in a specific order. The bases are ``guarded`` by towers. This means bases are invulnerable until the guarding towers are destroyed. Some towers may also be ``guarded`` by other towers and thus be invulnerable until the guarding towers are destroyed.\n",
        "\n",
        "For example, in the above map it might be the case that:\n",
        "```\n",
        "B0: guarded by T0\n",
        "B1: guarded by T1\n",
        "T0: guarded by T3 and T4\n",
        "T1: guarded by T2\n",
        "```\n",
        "The game can be won by destroying towers in the following order: T2, T1, B1, T3, T4, T0, B0.\n",
        "There are many possible orderings and the agent must discover one of the correct orderings.\n",
        "\n",
        "The guard configuration is represented internally in the game engine with a dictionary that you will be able to see but the agent will not be able to see:\n",
        "```\n",
        "{'B0': ['T0'], 'B1': ['T1'], 'T1': ['T2'], 'T0': ['T3', 'T4']}\n",
        "```\n",
        "The agent must learn one of the correct orderings through trial and error using a **Minimax**-like algorithm .\n",
        "\n",
        "To facilitate this, we provide a means of scoring the agent's attempts. The agent gets -100 points for dying, either from encountering a tower or base that is still guarded, or by going off the edge of the map.\n",
        "The agent gets +100 points for each tower destroyed.\n",
        "The agent gets +200 points for each based destroyed.\n",
        "The game ends when the agent is killed or when all bases are destroyed.\n",
        "\n",
        "The project comes is a set number of hand-crafted maps, but is also capable of generating new maps of arbitrary complexity.\n",
        "\n",
        "**Submission instructions:** Complete the ```maximax``` function below. Run the notebook on the test cases at the bottom of the notebook. Submit your notebook *with cell output saved*. The notebook will be graded by looking at the traces of your outputs to see how many of the test cases were successfully won by the agent.\n",
        "\n",
        "You can only modify the ```maximax``` cell. You can make additional helper function and make additional code and text cells to complete your implementation. You cannot modify any of the other code cells. In the tests, you can change the ```max_depth``` parameter as necessary.\n",
        "\n",
        "Please disable any debugging print statements that you added for yourself.\n",
        "\n",
        "**Grading:** One point per game won (6 games total). Grades will be determine by manual inspection of your notebook game outputs. No points will be given if you implement an algorithm other than maximax (e.g. A* or a rule-based agent), as determined by visual inspection. Visual inspection will not check for algorithm correctness, which is determined by your agent's ability to play the games.\n",
        "\n"
      ]
    },
    {
      "cell_type": "markdown",
      "metadata": {
        "id": "rqKqbPfuooKs"
      },
      "source": [
        "# Install and import"
      ]
    },
    {
      "cell_type": "code",
      "execution_count": 18,
      "metadata": {
        "colab": {
          "base_uri": "https://localhost:8080/"
        },
        "id": "JKXVg9hp9rJR",
        "outputId": "bae6007e-9445-4d5b-c252-7f8a68a717a3"
      },
      "outputs": [
        {
          "output_type": "stream",
          "name": "stdout",
          "text": [
            "Requirement already satisfied: graphviz in /usr/local/lib/python3.11/dist-packages (0.20.3)\n",
            "Requirement already satisfied: pydot in /usr/local/lib/python3.11/dist-packages (3.0.4)\n",
            "Requirement already satisfied: pyparsing>=3.0.9 in /usr/local/lib/python3.11/dist-packages (from pydot) (3.2.1)\n"
          ]
        }
      ],
      "source": [
        "!pip install graphviz\n",
        "!pip install pydot"
      ]
    },
    {
      "cell_type": "code",
      "execution_count": 19,
      "metadata": {
        "id": "hLflZkH7Dfbt"
      },
      "outputs": [],
      "source": [
        "from typing import NamedTuple\n",
        "from copy import copy, deepcopy\n",
        "from enum import Enum\n",
        "from functools import partial\n",
        "import random\n",
        "import math\n",
        "import graphviz\n",
        "import pydot\n",
        "from IPython.display import Image"
      ]
    },
    {
      "cell_type": "markdown",
      "metadata": {
        "id": "zVpabiH6iREs"
      },
      "source": [
        "# Data Structures\n",
        "\n",
        "An `Entity` can be the agent, tower, or base. The entity's status is one of the enumerated types below.\n",
        "\n",
        "A `State` object contains all information relevant to the state of the game. Note that `guards` slot indicates which entities are *guarded by* which other agents. That is, `{B0: [T1, T2]}` indicates that base `B0` is guarded by towers `T1` and `T2`, meaning `B0` cannot be destroyed until `T1` and `T2` are destroyed."
      ]
    },
    {
      "cell_type": "code",
      "execution_count": 20,
      "metadata": {
        "id": "9NM7xd8hDKbP"
      },
      "outputs": [],
      "source": [
        "### Entity class: can be agents, towers, or bases\n",
        "class Entity():\n",
        "  def __init__(self, name, x, y, status):\n",
        "    self.name = name          # Name\n",
        "    self.x = x                # x position\n",
        "    self.y = y                # y position\n",
        "    self.status = status      # status from Status ENUM\n",
        "\n",
        "### State object\n",
        "class State():\n",
        "  def __init__(self, agent, towers = [], bases = [], terminal = False, rows=3, cols=3, guards = {}):\n",
        "    self.agent = agent            # pointer to an agent Entity\n",
        "    self.towers = towers          # list of tower Entity objects\n",
        "    self.bases = bases            # list of base Entity objects\n",
        "    self.terminal = terminal      # Is the state terminal (boolean)\n",
        "    self.rows = rows              # Number of rows in grid\n",
        "    self.cols = cols              # number of columns in grid\n",
        "    self.guards = guards          # A dictionary of entity names (string) where\n",
        "                                  # values are lists of entity names\n",
        "                                  # E.g. {B0: [T1, T2]} means base B0 is guarded by towers T1 and T2\n",
        "                                  # and B0 will only be vulnerable when T1 and T2 are Status.DEAD."
      ]
    },
    {
      "cell_type": "markdown",
      "metadata": {
        "id": "LqFZlceaiPe4"
      },
      "source": [
        "#Agent Actions"
      ]
    },
    {
      "cell_type": "markdown",
      "metadata": {
        "id": "slTCLHR50VQN"
      },
      "source": [
        "These functions describe the actions the agent can perform."
      ]
    },
    {
      "cell_type": "code",
      "execution_count": 21,
      "metadata": {
        "id": "meFBu07NEecS"
      },
      "outputs": [],
      "source": [
        "def agent_east(state):\n",
        "  state.agent.x = state.agent.x + 1\n",
        "  return state\n",
        "\n",
        "def agent_north(state):\n",
        "  state.agent.y = state.agent.y - 1\n",
        "  return state\n",
        "\n",
        "def agent_south(state):\n",
        "  state.agent.y = state.agent.y + 1\n",
        "  return state\n",
        "\n",
        "def agent_west(state):\n",
        "  state.agent.x = state.agent.x - 1\n",
        "  return state"
      ]
    },
    {
      "cell_type": "markdown",
      "metadata": {
        "id": "anKeQAFWMeIj"
      },
      "source": [
        "# Enumerated Types"
      ]
    },
    {
      "cell_type": "code",
      "execution_count": 22,
      "metadata": {
        "id": "JZrJ-Z5PMfhO"
      },
      "outputs": [],
      "source": [
        "### Types of entities\n",
        "class EntityTypes(Enum):\n",
        "  AGENT = 'A'\n",
        "  BASE = 'B'\n",
        "  TOWER = 'T'\n",
        "\n",
        "### Agents, towers, and bases can be alive or dead\n",
        "class Status(Enum):\n",
        "  ALIVE = 1\n",
        "  DEAD = 0\n",
        "\n",
        "### List of available actions\n",
        "### Values are functions.\n",
        "### e.g., Call Actions.EAST.value(state)\n",
        "class Actions(Enum):\n",
        "  EAST = partial(agent_east)\n",
        "  SOUTH = partial(agent_south)\n",
        "  NORTH = partial(agent_north)\n",
        "  WEST = partial(agent_west)"
      ]
    },
    {
      "cell_type": "markdown",
      "metadata": {
        "id": "WDhL_wgEiUxD"
      },
      "source": [
        "# Drawing the Game State\n",
        "\n",
        "A grid is a list of lists."
      ]
    },
    {
      "cell_type": "code",
      "execution_count": 23,
      "metadata": {
        "id": "g1AjtQv9_eMV"
      },
      "outputs": [],
      "source": [
        "### Make a grid as a list of lists\n",
        "\n",
        "def make_grid(cols, rows):\n",
        "  grid = [[0 for col in range(cols)] for row in range(rows)]\n",
        "  return grid\n",
        "\n",
        "### Put names of agents, towers, and bases on a grid (when alive)\n",
        "\n",
        "def draw_state(state):\n",
        "  grid = make_grid(state.cols, state.rows)\n",
        "  for tower in state.towers:\n",
        "    if tower.status == Status.ALIVE and tower.x >= 0 and tower.x < state.cols and tower.y >=0 and tower.y < state.rows:\n",
        "      grid[tower.y][tower.x] = tower.name\n",
        "  for base in state.bases:\n",
        "    if base.status == Status.ALIVE and base.x >= 0 and base.x < state.cols and base.y >=0 and base.y < state.rows:\n",
        "      grid[base.y][base.x] = base.name\n",
        "  if state.agent.x >= 0 and state.agent.x < state.cols and state.agent.y >=0 and state.agent.y < state.rows:\n",
        "    grid[state.agent.y][state.agent.x] = EntityTypes.AGENT.value\n",
        "  return grid\n",
        "\n",
        "### Make game state easy to view\n",
        "### indent: shift everything to the right by a number of spaces\n",
        "\n",
        "def pretty_print(state, indent = 0):\n",
        "  # Make a grid with agent, towers, and bases\n",
        "  grid = draw_state(state)\n",
        "  # Now redraw the grid line by line\n",
        "  for j in range(len(grid)):\n",
        "    line = ''\n",
        "    for i in range(len(grid[j])):\n",
        "      c = grid[j][i]\n",
        "      if c == 0:\n",
        "        c = '[]'\n",
        "      if len(c) < 2:\n",
        "        c = c + \" \"\n",
        "      line = line + c + \" \"\n",
        "    print(' '*indent + line)\n",
        "  print(' '*indent + \"  guards\", state.guards)\n",
        "  print(' '*indent + \"  agent\", state.agent.status.name)\n",
        "  print(' '*indent + \"  towers\", [tower.name + \": \" + str(tower.status.name) for tower in state.towers])\n",
        "  print(' '*indent + \"  bases\", [base.name + \": \" + str(base.status.name) for base in state.bases])\n",
        "  print(' '*indent + \"  terminal\", state.terminal)"
      ]
    },
    {
      "cell_type": "markdown",
      "metadata": {
        "id": "QYgyhOQSeNb6"
      },
      "source": [
        "# Make a Random Game\n",
        "\n",
        "This is optional code provided if you want to generate new maps to test your agent on."
      ]
    },
    {
      "cell_type": "code",
      "execution_count": 24,
      "metadata": {
        "id": "7ZHTSYXmSLXb"
      },
      "outputs": [],
      "source": [
        "### Make the towers, bases, and their dependencies (who defends who).\n",
        "### Each base is always defended by at least one tower\n",
        "### num_towers must be equal to or greater than num_bases\n",
        "\n",
        "def make_towers_and_bases(num_bases = 1, num_towers = 1):\n",
        "  # Make bases\n",
        "  bases = [str(EntityTypes.BASE.value)+str(b) for b in list(range(num_bases))]\n",
        "  # Make towers\n",
        "  towers = [str(EntityTypes.TOWER.value)+str(b) for b in list(range(num_towers))]\n",
        "  # Initialize defended hash\n",
        "  guards = {}\n",
        "  # initially each base should have a tower\n",
        "  for i, base in enumerate(bases):\n",
        "    guards[base] = [towers[i]]\n",
        "  # Keep track of used bases and towers. All bases are used up and some towers equal to number of bases\n",
        "  used = bases + towers[:i+1]\n",
        "  # Keep track of remaining towers\n",
        "  remaining_towers = towers[i+1:]\n",
        "  # Iterate through remaining towers, assigning them to defend\n",
        "  while len(remaining_towers) > 0:\n",
        "    next_tower = remaining_towers.pop(0)\n",
        "    pick = used[random.randrange(0, len(used))]\n",
        "    if pick not in guards:\n",
        "      guards[pick] = []\n",
        "    guards[pick].append(next_tower)\n",
        "    used.append(pick)\n",
        "  return bases, towers, guards"
      ]
    },
    {
      "cell_type": "code",
      "execution_count": 25,
      "metadata": {
        "id": "ehcgk-qR9QzT"
      },
      "outputs": [],
      "source": [
        "### Make towers and bases then assign them to grid locations\n",
        "### Make an initial state object\n",
        "\n",
        "def make_random_game(num_bases = 1, num_towers = 1):\n",
        "  # Make bases and towers and assign defenders\n",
        "  bases, towers, guards = make_towers_and_bases(num_bases, num_towers)\n",
        "  # Everything altogether\n",
        "  all = bases + towers\n",
        "  # We will always have 5 rows\n",
        "  # Compute how many columns we need\n",
        "  num_cols = int(math.ceil(len(all)/4.0)) + 3\n",
        "  # Make a set of valid positions\n",
        "  positions = []\n",
        "  # Iterate through all the rows and columsn\n",
        "  # j loop is for rows\n",
        "  for j in range(4):\n",
        "    adjust = 0 # Sometimes we need fewer slots on odd rows\n",
        "    if num_cols % 2 == 0:\n",
        "      adjust = 1\n",
        "    #i loop is for columns\n",
        "    for i in range(int(num_cols/2) - ((j%2) * adjust)):\n",
        "      # A column position\n",
        "      col = (i * 2) + 1\n",
        "      # If we are on odd rows, add an offset\n",
        "      if (j % 2) == 1:\n",
        "        col = col + 1\n",
        "      # Compute the row number\n",
        "      row = j\n",
        "      # Skip the middle row\n",
        "      if row > 1:\n",
        "        row = row + 1\n",
        "      # Store the valid position\n",
        "      positions.append((col, row))\n",
        "  # For storing entities when we make them\n",
        "  tower_entities = []\n",
        "  base_entities = []\n",
        "  # Iterate through towers and make entities\n",
        "  for tower in towers:\n",
        "    # Grab a valid position\n",
        "    pos = positions.pop(random.randrange(0, len(positions)))\n",
        "    # Make a tower entity\n",
        "    tower_entities.append(Entity(name = tower, x = pos[0], y = pos[1], status = Status.ALIVE))\n",
        "  # Iterate through bases and make entities\n",
        "  for base in bases:\n",
        "    # Grab a valid position\n",
        "    pos = positions.pop(random.randrange(0, len(positions)))\n",
        "    # Make a base entity\n",
        "    base_entities.append(Entity(name = base, x = pos[0], y = pos[1], status = Status.ALIVE))\n",
        "  # Build the state object\n",
        "  state = State(agent = Entity(name = \"agent\", x = 0, y = 2, status = Status.ALIVE),\n",
        "                towers = [tower for tower in tower_entities],\n",
        "                bases = [base for base in base_entities],\n",
        "                terminal = False,\n",
        "                rows = 5,\n",
        "                cols = num_cols,\n",
        "                guards = guards)\n",
        "  return state"
      ]
    },
    {
      "cell_type": "code",
      "execution_count": 26,
      "metadata": {
        "colab": {
          "base_uri": "https://localhost:8080/"
        },
        "id": "ibB1cpH8l8pK",
        "outputId": "983cc27c-48a6-4e58-be65-8d7d3863b916"
      },
      "outputs": [
        {
          "output_type": "stream",
          "name": "stdout",
          "text": [
            "[] T2 [] B0 [] \n",
            "[] [] [] [] [] \n",
            "A  [] [] [] [] \n",
            "[] B1 [] T1 [] \n",
            "[] [] T0 [] [] \n",
            "  guards {'B0': ['T0', 'T2'], 'B1': ['T1']}\n",
            "  agent ALIVE\n",
            "  towers ['T0: ALIVE', 'T1: ALIVE', 'T2: ALIVE']\n",
            "  bases ['B0: ALIVE', 'B1: ALIVE']\n",
            "  terminal False\n"
          ]
        }
      ],
      "source": [
        "random_game_state = make_random_game(2, 3)\n",
        "pretty_print(random_game_state)"
      ]
    },
    {
      "cell_type": "markdown",
      "metadata": {
        "id": "FI5vp5-jImqI"
      },
      "source": [
        "# Hard-coded initial states"
      ]
    },
    {
      "cell_type": "code",
      "execution_count": 27,
      "metadata": {
        "id": "3T7FseLrH029"
      },
      "outputs": [],
      "source": [
        "init_state3 = State(agent=Entity(name=\"agent\",x=0,y=1,status=Status.ALIVE),\n",
        "                 towers=[Entity(name=\"t0\", x=2, y=0,status=Status.ALIVE)],\n",
        "                 bases=[Entity(name=\"b0\", x=4, y=2,status=Status.ALIVE)],\n",
        "                 terminal = False,\n",
        "                 rows = 3,\n",
        "                 cols = 5,\n",
        "                 guards = {'b0': ['t0']})\n",
        "\n",
        "init_state1 = State(agent=Entity(name=\"agent\",x=0,y=1,status=Status.ALIVE),\n",
        "                 towers=[Entity(name=\"t0\",x=1, y=0,status=Status.ALIVE)],\n",
        "                 bases=[Entity(name=\"b0\",x=2, y=2,status=Status.ALIVE)],\n",
        "                 terminal = False,\n",
        "                 rows = 3,\n",
        "                 cols = 3,\n",
        "                 guards = {'b0': ['t0']})\n",
        "\n",
        "init_state2 = State(agent=Entity(name=\"agent\",x=0,y=1,status=Status.ALIVE),\n",
        "                     towers=[Entity(name=\"t0\",x=1,y=0,status=Status.ALIVE),\n",
        "                             Entity(name=\"t1\",x=1,y=2,status=Status.ALIVE)],\n",
        "                     bases=[Entity(name=\"b0\",x=2, y=1,status=Status.ALIVE)],\n",
        "                     terminal = False,\n",
        "                     rows = 3,\n",
        "                     cols = 3,\n",
        "                     guards = {'b0': ['t0', 't1']})\n",
        "\n",
        "init_state4 = State(agent=Entity(name=\"agent\", x=0, y=1, status = Status.ALIVE),\n",
        "                  towers = [Entity(name=\"T0\",x=3,y=0,status=Status.ALIVE),\n",
        "                            Entity(name=\"T1\",x=2,y=2,status=Status.ALIVE),\n",
        "                            Entity(name=\"T2\",x=2,y=0,status=Status.ALIVE),\n",
        "                            Entity(name=\"T3\",x=3,y=2,status=Status.ALIVE)],\n",
        "                  bases = [Entity(name=\"B0\",x=4, y=0,status=Status.ALIVE),\n",
        "                           Entity(name=\"B1\",x=1, y=2,status=Status.ALIVE)],\n",
        "                  terminal = False,\n",
        "                  rows = 3,\n",
        "                  cols = 5,\n",
        "                  guards = {'B0': ['T0'], 'B1': ['T1'], 'T0': ['T2'], 'T1': ['T3']})\n",
        "\n",
        "init_state6 = State(agent=Entity(name=\"agent\", x=0, y=0, status = Status.ALIVE),\n",
        "                   towers = [Entity(name=\"T0\",x=3,y=6,status=Status.ALIVE),\n",
        "                             Entity(name=\"T1\",x=6,y=6,status=Status.ALIVE),\n",
        "                             ],\n",
        "                   bases = [Entity(name=\"B0\",x=0, y=3,status=Status.ALIVE),\n",
        "                            ],\n",
        "                   terminal = False,\n",
        "                   rows = 7,\n",
        "                   cols = 7,\n",
        "                   guards = {'B0': ['T0'], 'T0': ['T1']})\n",
        "\n",
        "init_state5 = State(agent=Entity(name=\"agent\", x=0, y=2, status = Status.ALIVE),\n",
        "                      towers = [Entity(name=\"T3\",x=1,y=0,status=Status.ALIVE),\n",
        "                                Entity(name=\"T2\",x=2,y=1,status=Status.ALIVE),\n",
        "                                Entity(name=\"T1\",x=1,y=3,status=Status.ALIVE),\n",
        "                                Entity(name=\"T0\",x=3,y=3,status=Status.ALIVE),\n",
        "                                Entity(name=\"T4\",x=2,y=4,status=Status.ALIVE)\n",
        "                                ],\n",
        "                  bases = [Entity(name=\"B0\",x=4, y=4,status=Status.ALIVE),\n",
        "                           Entity(name=\"B1\",x=3, y=0,status=Status.ALIVE)\n",
        "                           ],\n",
        "                  terminal = False,\n",
        "                  rows = 5,\n",
        "                  cols = 5,\n",
        "                  guards = {'B0': ['T0'], 'B1': ['T1'], 'T1': ['T2'], 'T0': ['T3', 'T4']})"
      ]
    },
    {
      "cell_type": "markdown",
      "metadata": {
        "id": "ZCVu0U7PoWzg"
      },
      "source": [
        "# Initialize game state"
      ]
    },
    {
      "cell_type": "code",
      "execution_count": 28,
      "metadata": {
        "colab": {
          "base_uri": "https://localhost:8080/"
        },
        "id": "KDGyg3fV50MF",
        "outputId": "efedfd10-afda-424b-bf83-8c0bd9e0397f"
      },
      "outputs": [
        {
          "output_type": "stream",
          "name": "stdout",
          "text": [
            "[] t0 [] \n",
            "A  [] [] \n",
            "[] [] b0 \n",
            "  guards {'b0': ['t0']}\n",
            "  agent ALIVE\n",
            "  towers ['t0: ALIVE']\n",
            "  bases ['b0: ALIVE']\n",
            "  terminal False\n"
          ]
        }
      ],
      "source": [
        "init_state = deepcopy(init_state1)\n",
        "pretty_print(init_state)"
      ]
    },
    {
      "cell_type": "markdown",
      "metadata": {
        "id": "yLAPPQ6Gocq5"
      },
      "source": [
        "# Compute the game score\n",
        "\n",
        "**Note:** If you call the `score()` function, you must pass in the number of steps the agent has taken, which is the depth of the search."
      ]
    },
    {
      "cell_type": "code",
      "execution_count": 29,
      "metadata": {
        "id": "FDuab5MWob_g"
      },
      "outputs": [],
      "source": [
        "### +200 for each dead base\n",
        "### +100 for each dead tower\n",
        "### -100 for dead agent\n",
        "### -1 for each depth (length of solution)\n",
        "\n",
        "def score(state, depth = 0):\n",
        "  score = 0\n",
        "  # Is the agent dead?\n",
        "  if state.agent.status == Status.DEAD:\n",
        "    score = score - 100\n",
        "#  else:\n",
        "  # Any dead towers?\n",
        "  for tower in state.towers:\n",
        "    if tower.status == Status.DEAD:\n",
        "      score = score + 100\n",
        "  # Any dead bases?\n",
        "  for base in state.bases:\n",
        "    if base.status == Status.DEAD:\n",
        "      score = score + 200\n",
        "# Length penalty\n",
        "  score = score - depth\n",
        "  return score"
      ]
    },
    {
      "cell_type": "markdown",
      "metadata": {
        "id": "yWc2pxSZIpbM"
      },
      "source": [
        "# Executing Actions"
      ]
    },
    {
      "cell_type": "markdown",
      "metadata": {
        "id": "yE637_6A34Bh"
      },
      "source": [
        "This section contains the logic for the rules of the game--what happens when different actions are executed under different circumstances causing the agent or towers or bases to die. The `do_action()` is the core function of the game."
      ]
    },
    {
      "cell_type": "markdown",
      "metadata": {
        "id": "J96GnMo44NvJ"
      },
      "source": [
        "Helpers:\n",
        "\n",
        "- `is_alive(entity, state)`: return true or false depending on whether the given entity is alive in the game state.\n",
        "- `guarded(entity, state)`: return true if the given entity has living guards."
      ]
    },
    {
      "cell_type": "code",
      "execution_count": 30,
      "metadata": {
        "id": "Si2UMNEj4Q8S"
      },
      "outputs": [],
      "source": [
        "### Figure out if an entity (string name of a base or tower) is alive or not\n",
        "\n",
        "def is_alive(entity, state):\n",
        "  # Check to see if entity is the agent\n",
        "  if state.agent.name == entity:\n",
        "    return state.agent.name.status == Status.ALIVE\n",
        "  # Check to see if entity is a tower\n",
        "  for tower in state.towers:\n",
        "    if tower.name == entity:\n",
        "      return tower.status == Status.ALIVE\n",
        "  # Check to see if entity is a base\n",
        "  for base in state.bases:\n",
        "    if base.name == entity:\n",
        "      return base.status == Status.ALIVE\n",
        "  return False\n",
        "\n",
        "### Figure out if a tower or base (name string) is defended.\n",
        "### An entity is not defended if every defending entity is dead.\n",
        "\n",
        "def guarded(entity, state):\n",
        "  if entity in state.guards:\n",
        "    for guard in state.guards[entity]:\n",
        "      if is_alive(guard, state):\n",
        "        return True\n",
        "  return False"
      ]
    },
    {
      "cell_type": "markdown",
      "metadata": {
        "id": "TKTAo7n34R2p"
      },
      "source": [
        "The `do_action()` function. This implements the main action logic of the game."
      ]
    },
    {
      "cell_type": "code",
      "execution_count": 31,
      "metadata": {
        "id": "LkH3pFa9IuLB"
      },
      "outputs": [],
      "source": [
        "### Execute an action\n",
        "### Action is from Actions ENUM.\n",
        "\n",
        "def do_action(action, state):\n",
        "  # Make a deep copy of the state\n",
        "  new_state = deepcopy(state)\n",
        "  # Call the action function\n",
        "  new_state = action.value(new_state)\n",
        "  # Grab a reference to the agent for convenience\n",
        "  agent = new_state.agent\n",
        "  # If agent has gone off the board, then it is dead\n",
        "  if agent.x < 0 or agent.y < 0 or agent.x >= state.cols or agent.y >= state.rows:\n",
        "    agent.status = Status.DEAD\n",
        "    new_state.terminal = True\n",
        "    #new_state = deepcopy(state) # don't die when going off the edge, just don't move\n",
        "  else:\n",
        "    # Did the agent encounter a tower?\n",
        "    for tower in new_state.towers:\n",
        "      if tower.status == Status.ALIVE and agent.x == tower.x and agent.y == tower.y:\n",
        "        # Is the tower defended?\n",
        "        if guarded(tower.name, state):\n",
        "          # Tower is defended so agent is dead\n",
        "          agent.status = Status.DEAD\n",
        "          new_state.terminal = True\n",
        "        else:\n",
        "          # Tower was not defended so tower is dead\n",
        "          tower.status = Status.DEAD\n",
        "    # Did the agent encounter a base?\n",
        "    for base in new_state.bases:\n",
        "      if base.status == Status.ALIVE and agent.x == base.x and agent.y == base.y:\n",
        "        # Is the base defended?\n",
        "        if guarded(base.name, state):\n",
        "          # Base is defended so agent is dead\n",
        "          agent.status = Status.DEAD\n",
        "          new_state.terminal = True\n",
        "        else:\n",
        "          # Base was not defended so base is dead\n",
        "          base.status = Status.DEAD\n",
        "    # Check for alive bases\n",
        "    alive_bases = 0\n",
        "    for base in new_state.bases:\n",
        "      if base.status == Status.ALIVE:\n",
        "        alive_bases = alive_bases + 1\n",
        "    # If there are no alive bases, then the game is over\n",
        "    if alive_bases == 0:\n",
        "      new_state.terminal = True\n",
        "  return new_state"
      ]
    },
    {
      "cell_type": "markdown",
      "metadata": {
        "id": "XHYOKSUiquzw"
      },
      "source": [
        "Utility function for driving the agent manually. You can give a list of actions (e.g., `[Actions.EAST, Actions.NORTH, etc.]`) and see how the game state changes."
      ]
    },
    {
      "cell_type": "code",
      "execution_count": 32,
      "metadata": {
        "id": "RvV3Qm8lYt8R"
      },
      "outputs": [],
      "source": [
        "### Utility for driving the agent manually.\n",
        "### Route is a list of actions from Actions ENUM (e.g., [Actions.EAST, Actions.NORTH, etc.])\n",
        "def test_run(state, route):\n",
        "  # Print the game state\n",
        "  pretty_print(state)\n",
        "  # Execute each action in route\n",
        "  for action in route:\n",
        "    print(\"\\nACTION\", action.name, '\\n')\n",
        "    state = do_action(action, state)\n",
        "    # Print the game state\n",
        "    pretty_print(state)\n",
        "  # Print the score\n",
        "  print(\"Score:\", score(state))\n",
        "  return state"
      ]
    },
    {
      "cell_type": "code",
      "execution_count": 33,
      "metadata": {
        "colab": {
          "base_uri": "https://localhost:8080/"
        },
        "id": "FrNJennCZZKH",
        "outputId": "1251a4dd-94c2-4c39-e513-05a2f111b8a9"
      },
      "outputs": [
        {
          "output_type": "stream",
          "name": "stdout",
          "text": [
            "[] t0 [] \n",
            "A  [] [] \n",
            "[] [] b0 \n",
            "  guards {'b0': ['t0']}\n",
            "  agent ALIVE\n",
            "  towers ['t0: ALIVE']\n",
            "  bases ['b0: ALIVE']\n",
            "  terminal False\n",
            "\n",
            "ACTION EAST \n",
            "\n",
            "[] t0 [] \n",
            "[] A  [] \n",
            "[] [] b0 \n",
            "  guards {'b0': ['t0']}\n",
            "  agent ALIVE\n",
            "  towers ['t0: ALIVE']\n",
            "  bases ['b0: ALIVE']\n",
            "  terminal False\n",
            "\n",
            "ACTION NORTH \n",
            "\n",
            "[] A  [] \n",
            "[] [] [] \n",
            "[] [] b0 \n",
            "  guards {'b0': ['t0']}\n",
            "  agent ALIVE\n",
            "  towers ['t0: DEAD']\n",
            "  bases ['b0: ALIVE']\n",
            "  terminal False\n",
            "\n",
            "ACTION EAST \n",
            "\n",
            "[] [] A  \n",
            "[] [] [] \n",
            "[] [] b0 \n",
            "  guards {'b0': ['t0']}\n",
            "  agent ALIVE\n",
            "  towers ['t0: DEAD']\n",
            "  bases ['b0: ALIVE']\n",
            "  terminal False\n",
            "Score: 100\n"
          ]
        }
      ],
      "source": [
        "dummy_state = test_run(init_state, [Actions.EAST, Actions.NORTH, Actions.EAST])"
      ]
    },
    {
      "cell_type": "markdown",
      "metadata": {
        "id": "Lbpop8n-ih10"
      },
      "source": [
        "# Maximax\n",
        "\n",
        "Complete the ```maximax``` function. You may make any number of helper functions. You may make new code and text cells. You may not change the signature of the ```maximax``` function call."
      ]
    },
    {
      "cell_type": "code",
      "execution_count": 34,
      "metadata": {
        "id": "T0VGQdz6-jic"
      },
      "outputs": [],
      "source": [
        "### Maximax function\n",
        "### state is initial state\n",
        "### actions is the set of possible actions\n",
        "### max_depth is how deep the search can go before backtracking\n",
        "\n",
        "def maximax(state, actions = [act for act in Actions], max_depth = float(\"inf\")):\n",
        "  max_depth = 20\n",
        "  best_action = None # Return the best action\n",
        "  best_action_value = -float(\"inf\") # Return the value of the best action (dummy default is -infinity)\n",
        "  ### YOUR CODE GOES BELOW\n",
        "  memo = {}\n",
        "\n",
        "  def maximax_helper(state, depth, max_depth):\n",
        "      state_key = (tuple((tower.name, tower.x, tower.y, tower.status) for tower in state.towers),\n",
        "                  tuple((base.name, base.x, base.y, base.status) for base in state.bases),\n",
        "                  (state.agent.name, state.agent.x, state.agent.y, state.agent.status),\n",
        "                  state.terminal, depth)\n",
        "\n",
        "      if state_key in memo:\n",
        "          return memo[state_key]\n",
        "\n",
        "      if state.terminal or depth >= max_depth:\n",
        "          result = score(state, depth)\n",
        "          memo[state_key] = result\n",
        "          return result\n",
        "\n",
        "      max_value = -float(\"inf\")\n",
        "      for action in actions:\n",
        "          new_state = do_action(action, deepcopy(state))\n",
        "          action_value = maximax_helper(new_state, depth + 1, max_depth)\n",
        "          max_value = max(max_value, action_value)\n",
        "\n",
        "      memo[state_key] = max_value\n",
        "      return max_value\n",
        "  for action in actions:\n",
        "        new_state = do_action(action, deepcopy(state))\n",
        "        action_value = maximax_helper(new_state, 0, max_depth)\n",
        "        if action_value > best_action_value:\n",
        "            best_action = action\n",
        "            best_action_value = action_value\n",
        "  ### YOUR CODE GOES ABOVE\n",
        "  return best_action, best_action_value\n"
      ]
    },
    {
      "cell_type": "markdown",
      "metadata": {
        "id": "Kx79eYbAsjLB"
      },
      "source": [
        "## Run Maximax\n",
        "\n",
        "Run the agent using the maximax decision-making algorithm. This runs maximax after every action as if the tree is unreliable after execution, which is theoretically true due to depth limiting."
      ]
    },
    {
      "cell_type": "code",
      "execution_count": 35,
      "metadata": {
        "id": "YZx8d1yeTraH"
      },
      "outputs": [],
      "source": [
        "def run_maximax(state, actions = [act for act in Actions], max_depth = float(\"inf\")):\n",
        "  # Print the state\n",
        "  pretty_print(state)\n",
        "  # Run until terminal state reached\n",
        "  while not state.terminal:\n",
        "    # Compute best action\n",
        "    action, value = maximax(state, actions, max_depth = max_depth)\n",
        "    print(\"\\nACTION\", action.name, \"value\", value, '\\n')\n",
        "    # Execute the action\n",
        "    state = do_action(action, state)\n",
        "    # print the state\n",
        "    pretty_print(state)\n"
      ]
    },
    {
      "cell_type": "markdown",
      "metadata": {
        "id": "JZx2vQDzvxQ4"
      },
      "source": [
        "## Test Maximax"
      ]
    },
    {
      "cell_type": "markdown",
      "metadata": {
        "id": "pXU7qbKS_mar"
      },
      "source": [
        "Run the following test cases. You will be graded on whether you win each game. Make sure your submit a notebook with cell outputs saved in the notebook so that we can examine your runs. Please disable any debugging print statement before submission so we can easily inspect the game traces.\n",
        "\n",
        "You may change the ```max_depth``` parameter (though you shouldn't need to). You may NOT change the test case initial states."
      ]
    },
    {
      "cell_type": "markdown",
      "metadata": {
        "id": "0KeXOxfY9r2f"
      },
      "source": [
        "**init state 1**\n",
        "\n",
        "\n"
      ]
    },
    {
      "cell_type": "code",
      "execution_count": 36,
      "metadata": {
        "colab": {
          "base_uri": "https://localhost:8080/"
        },
        "id": "Nd-nhe129WrC",
        "outputId": "20a19af5-7f42-4b68-8855-3d84d87184b7"
      },
      "outputs": [
        {
          "output_type": "stream",
          "name": "stdout",
          "text": [
            "[] t0 [] \n",
            "A  [] [] \n",
            "[] [] b0 \n",
            "  guards {'b0': ['t0']}\n",
            "  agent ALIVE\n",
            "  towers ['t0: ALIVE']\n",
            "  bases ['b0: ALIVE']\n",
            "  terminal False\n"
          ]
        }
      ],
      "source": [
        "init_state = deepcopy(init_state1)\n",
        "pretty_print(init_state)"
      ]
    },
    {
      "cell_type": "code",
      "execution_count": 37,
      "metadata": {
        "colab": {
          "base_uri": "https://localhost:8080/"
        },
        "id": "TzTlYE5MdLV0",
        "outputId": "5acaa8eb-9469-4651-949b-771235b7217a"
      },
      "outputs": [
        {
          "output_type": "stream",
          "name": "stdout",
          "text": [
            "action: EAST\n",
            "value: 296\n"
          ]
        }
      ],
      "source": [
        "action, value = maximax(init_state, max_depth=10)\n",
        "print(\"action:\", action.name)\n",
        "print(\"value:\", value)"
      ]
    },
    {
      "cell_type": "code",
      "execution_count": 38,
      "metadata": {
        "colab": {
          "base_uri": "https://localhost:8080/"
        },
        "id": "-oscFv-nhzjt",
        "outputId": "93b6c75c-8bf3-403a-d814-8d687749c513"
      },
      "outputs": [
        {
          "output_type": "stream",
          "name": "stdout",
          "text": [
            "[] t0 [] \n",
            "A  [] [] \n",
            "[] [] b0 \n",
            "  guards {'b0': ['t0']}\n",
            "  agent ALIVE\n",
            "  towers ['t0: ALIVE']\n",
            "  bases ['b0: ALIVE']\n",
            "  terminal False\n",
            "\n",
            "ACTION EAST value 296 \n",
            "\n",
            "[] t0 [] \n",
            "[] A  [] \n",
            "[] [] b0 \n",
            "  guards {'b0': ['t0']}\n",
            "  agent ALIVE\n",
            "  towers ['t0: ALIVE']\n",
            "  bases ['b0: ALIVE']\n",
            "  terminal False\n",
            "\n",
            "ACTION NORTH value 297 \n",
            "\n",
            "[] A  [] \n",
            "[] [] [] \n",
            "[] [] b0 \n",
            "  guards {'b0': ['t0']}\n",
            "  agent ALIVE\n",
            "  towers ['t0: DEAD']\n",
            "  bases ['b0: ALIVE']\n",
            "  terminal False\n",
            "\n",
            "ACTION EAST value 298 \n",
            "\n",
            "[] [] A  \n",
            "[] [] [] \n",
            "[] [] b0 \n",
            "  guards {'b0': ['t0']}\n",
            "  agent ALIVE\n",
            "  towers ['t0: DEAD']\n",
            "  bases ['b0: ALIVE']\n",
            "  terminal False\n",
            "\n",
            "ACTION SOUTH value 299 \n",
            "\n",
            "[] [] [] \n",
            "[] [] A  \n",
            "[] [] b0 \n",
            "  guards {'b0': ['t0']}\n",
            "  agent ALIVE\n",
            "  towers ['t0: DEAD']\n",
            "  bases ['b0: ALIVE']\n",
            "  terminal False\n",
            "\n",
            "ACTION SOUTH value 300 \n",
            "\n",
            "[] [] [] \n",
            "[] [] [] \n",
            "[] [] A  \n",
            "  guards {'b0': ['t0']}\n",
            "  agent ALIVE\n",
            "  towers ['t0: DEAD']\n",
            "  bases ['b0: DEAD']\n",
            "  terminal True\n"
          ]
        }
      ],
      "source": [
        "run_maximax(init_state, max_depth=10)"
      ]
    },
    {
      "cell_type": "markdown",
      "metadata": {
        "id": "-AP4jtciAluP"
      },
      "source": [
        "**Init state 2**"
      ]
    },
    {
      "cell_type": "code",
      "execution_count": 39,
      "metadata": {
        "colab": {
          "base_uri": "https://localhost:8080/"
        },
        "id": "HipGGB8dAnpp",
        "outputId": "d128b8ff-19d8-4127-8186-3edee4e05836"
      },
      "outputs": [
        {
          "output_type": "stream",
          "name": "stdout",
          "text": [
            "[] t0 [] \n",
            "A  [] b0 \n",
            "[] t1 [] \n",
            "  guards {'b0': ['t0', 't1']}\n",
            "  agent ALIVE\n",
            "  towers ['t0: ALIVE', 't1: ALIVE']\n",
            "  bases ['b0: ALIVE']\n",
            "  terminal False\n"
          ]
        }
      ],
      "source": [
        "init_state = deepcopy(init_state2)\n",
        "pretty_print(init_state)"
      ]
    },
    {
      "cell_type": "code",
      "execution_count": 40,
      "metadata": {
        "colab": {
          "base_uri": "https://localhost:8080/"
        },
        "id": "fLX2KTedArOL",
        "outputId": "b94ade04-0274-4b50-b3a7-fad834a15b86"
      },
      "outputs": [
        {
          "output_type": "stream",
          "name": "stdout",
          "text": [
            "action: EAST\n",
            "value: 395\n"
          ]
        }
      ],
      "source": [
        "action, value = maximax(init_state, max_depth=10)\n",
        "print(\"action:\", action.name)\n",
        "print(\"value:\", value)"
      ]
    },
    {
      "cell_type": "code",
      "execution_count": 41,
      "metadata": {
        "colab": {
          "base_uri": "https://localhost:8080/"
        },
        "id": "xwbjaX7OAzEH",
        "outputId": "1c8015de-feaf-4f77-d62f-b14fb01bb5cc"
      },
      "outputs": [
        {
          "output_type": "stream",
          "name": "stdout",
          "text": [
            "[] t0 [] \n",
            "A  [] b0 \n",
            "[] t1 [] \n",
            "  guards {'b0': ['t0', 't1']}\n",
            "  agent ALIVE\n",
            "  towers ['t0: ALIVE', 't1: ALIVE']\n",
            "  bases ['b0: ALIVE']\n",
            "  terminal False\n",
            "\n",
            "ACTION EAST value 395 \n",
            "\n",
            "[] t0 [] \n",
            "[] A  b0 \n",
            "[] t1 [] \n",
            "  guards {'b0': ['t0', 't1']}\n",
            "  agent ALIVE\n",
            "  towers ['t0: ALIVE', 't1: ALIVE']\n",
            "  bases ['b0: ALIVE']\n",
            "  terminal False\n",
            "\n",
            "ACTION SOUTH value 396 \n",
            "\n",
            "[] t0 [] \n",
            "[] [] b0 \n",
            "[] A  [] \n",
            "  guards {'b0': ['t0', 't1']}\n",
            "  agent ALIVE\n",
            "  towers ['t0: ALIVE', 't1: DEAD']\n",
            "  bases ['b0: ALIVE']\n",
            "  terminal False\n",
            "\n",
            "ACTION NORTH value 397 \n",
            "\n",
            "[] t0 [] \n",
            "[] A  b0 \n",
            "[] [] [] \n",
            "  guards {'b0': ['t0', 't1']}\n",
            "  agent ALIVE\n",
            "  towers ['t0: ALIVE', 't1: DEAD']\n",
            "  bases ['b0: ALIVE']\n",
            "  terminal False\n",
            "\n",
            "ACTION NORTH value 398 \n",
            "\n",
            "[] A  [] \n",
            "[] [] b0 \n",
            "[] [] [] \n",
            "  guards {'b0': ['t0', 't1']}\n",
            "  agent ALIVE\n",
            "  towers ['t0: DEAD', 't1: DEAD']\n",
            "  bases ['b0: ALIVE']\n",
            "  terminal False\n",
            "\n",
            "ACTION EAST value 399 \n",
            "\n",
            "[] [] A  \n",
            "[] [] b0 \n",
            "[] [] [] \n",
            "  guards {'b0': ['t0', 't1']}\n",
            "  agent ALIVE\n",
            "  towers ['t0: DEAD', 't1: DEAD']\n",
            "  bases ['b0: ALIVE']\n",
            "  terminal False\n",
            "\n",
            "ACTION SOUTH value 400 \n",
            "\n",
            "[] [] [] \n",
            "[] [] A  \n",
            "[] [] [] \n",
            "  guards {'b0': ['t0', 't1']}\n",
            "  agent ALIVE\n",
            "  towers ['t0: DEAD', 't1: DEAD']\n",
            "  bases ['b0: DEAD']\n",
            "  terminal True\n"
          ]
        }
      ],
      "source": [
        "run_maximax(init_state, max_depth=10)"
      ]
    },
    {
      "cell_type": "markdown",
      "metadata": {
        "id": "CaWjH8g8A2cH"
      },
      "source": [
        "**Init state3**"
      ]
    },
    {
      "cell_type": "code",
      "execution_count": 42,
      "metadata": {
        "colab": {
          "base_uri": "https://localhost:8080/"
        },
        "id": "2ICTNaWRA4qO",
        "outputId": "0cd9cc0a-2378-4c03-f723-6128bb90ccb7"
      },
      "outputs": [
        {
          "output_type": "stream",
          "name": "stdout",
          "text": [
            "[] [] t0 [] [] \n",
            "A  [] [] [] [] \n",
            "[] [] [] [] b0 \n",
            "  guards {'b0': ['t0']}\n",
            "  agent ALIVE\n",
            "  towers ['t0: ALIVE']\n",
            "  bases ['b0: ALIVE']\n",
            "  terminal False\n"
          ]
        }
      ],
      "source": [
        "init_state = deepcopy(init_state3)\n",
        "pretty_print(init_state)"
      ]
    },
    {
      "cell_type": "code",
      "execution_count": 43,
      "metadata": {
        "colab": {
          "base_uri": "https://localhost:8080/"
        },
        "id": "2-8KrmhQA7eL",
        "outputId": "9c3303ad-0f71-4027-f25c-f1d29d58445b"
      },
      "outputs": [
        {
          "output_type": "stream",
          "name": "stdout",
          "text": [
            "action: EAST\n",
            "value: 294\n"
          ]
        }
      ],
      "source": [
        "action, value = maximax(init_state, max_depth=10)\n",
        "print(\"action:\", action.name)\n",
        "print(\"value:\", value)"
      ]
    },
    {
      "cell_type": "code",
      "execution_count": 44,
      "metadata": {
        "colab": {
          "base_uri": "https://localhost:8080/"
        },
        "id": "P-W9gRNrA8zi",
        "outputId": "37f0d847-101b-4d92-8dd9-6a894249b305"
      },
      "outputs": [
        {
          "output_type": "stream",
          "name": "stdout",
          "text": [
            "[] [] t0 [] [] \n",
            "A  [] [] [] [] \n",
            "[] [] [] [] b0 \n",
            "  guards {'b0': ['t0']}\n",
            "  agent ALIVE\n",
            "  towers ['t0: ALIVE']\n",
            "  bases ['b0: ALIVE']\n",
            "  terminal False\n",
            "\n",
            "ACTION EAST value 294 \n",
            "\n",
            "[] [] t0 [] [] \n",
            "[] A  [] [] [] \n",
            "[] [] [] [] b0 \n",
            "  guards {'b0': ['t0']}\n",
            "  agent ALIVE\n",
            "  towers ['t0: ALIVE']\n",
            "  bases ['b0: ALIVE']\n",
            "  terminal False\n",
            "\n",
            "ACTION EAST value 295 \n",
            "\n",
            "[] [] t0 [] [] \n",
            "[] [] A  [] [] \n",
            "[] [] [] [] b0 \n",
            "  guards {'b0': ['t0']}\n",
            "  agent ALIVE\n",
            "  towers ['t0: ALIVE']\n",
            "  bases ['b0: ALIVE']\n",
            "  terminal False\n",
            "\n",
            "ACTION NORTH value 296 \n",
            "\n",
            "[] [] A  [] [] \n",
            "[] [] [] [] [] \n",
            "[] [] [] [] b0 \n",
            "  guards {'b0': ['t0']}\n",
            "  agent ALIVE\n",
            "  towers ['t0: DEAD']\n",
            "  bases ['b0: ALIVE']\n",
            "  terminal False\n",
            "\n",
            "ACTION EAST value 297 \n",
            "\n",
            "[] [] [] A  [] \n",
            "[] [] [] [] [] \n",
            "[] [] [] [] b0 \n",
            "  guards {'b0': ['t0']}\n",
            "  agent ALIVE\n",
            "  towers ['t0: DEAD']\n",
            "  bases ['b0: ALIVE']\n",
            "  terminal False\n",
            "\n",
            "ACTION EAST value 298 \n",
            "\n",
            "[] [] [] [] A  \n",
            "[] [] [] [] [] \n",
            "[] [] [] [] b0 \n",
            "  guards {'b0': ['t0']}\n",
            "  agent ALIVE\n",
            "  towers ['t0: DEAD']\n",
            "  bases ['b0: ALIVE']\n",
            "  terminal False\n",
            "\n",
            "ACTION SOUTH value 299 \n",
            "\n",
            "[] [] [] [] [] \n",
            "[] [] [] [] A  \n",
            "[] [] [] [] b0 \n",
            "  guards {'b0': ['t0']}\n",
            "  agent ALIVE\n",
            "  towers ['t0: DEAD']\n",
            "  bases ['b0: ALIVE']\n",
            "  terminal False\n",
            "\n",
            "ACTION SOUTH value 300 \n",
            "\n",
            "[] [] [] [] [] \n",
            "[] [] [] [] [] \n",
            "[] [] [] [] A  \n",
            "  guards {'b0': ['t0']}\n",
            "  agent ALIVE\n",
            "  towers ['t0: DEAD']\n",
            "  bases ['b0: DEAD']\n",
            "  terminal True\n"
          ]
        }
      ],
      "source": [
        "run_maximax(init_state, max_depth=10)"
      ]
    },
    {
      "cell_type": "markdown",
      "metadata": {
        "id": "nH6z9zBCA9qR"
      },
      "source": [
        "**Init state 4**"
      ]
    },
    {
      "cell_type": "code",
      "execution_count": 45,
      "metadata": {
        "colab": {
          "base_uri": "https://localhost:8080/"
        },
        "id": "YAYtMNuHA_Q5",
        "outputId": "d63f35a2-d176-4547-bc1e-6244946512ae"
      },
      "outputs": [
        {
          "output_type": "stream",
          "name": "stdout",
          "text": [
            "[] [] T2 T0 B0 \n",
            "A  [] [] [] [] \n",
            "[] B1 T1 T3 [] \n",
            "  guards {'B0': ['T0'], 'B1': ['T1'], 'T0': ['T2'], 'T1': ['T3']}\n",
            "  agent ALIVE\n",
            "  towers ['T0: ALIVE', 'T1: ALIVE', 'T2: ALIVE', 'T3: ALIVE']\n",
            "  bases ['B0: ALIVE', 'B1: ALIVE']\n",
            "  terminal False\n"
          ]
        }
      ],
      "source": [
        "init_state = deepcopy(init_state4)\n",
        "pretty_print(init_state)"
      ]
    },
    {
      "cell_type": "code",
      "execution_count": 46,
      "metadata": {
        "colab": {
          "base_uri": "https://localhost:8080/"
        },
        "id": "LICzbXJtBByv",
        "outputId": "e627477f-5884-424b-d8e6-f61cdfff8ea7"
      },
      "outputs": [
        {
          "output_type": "stream",
          "name": "stdout",
          "text": [
            "action: EAST\n",
            "value: 791\n"
          ]
        }
      ],
      "source": [
        "action, value = maximax(init_state, max_depth=10)\n",
        "print(\"action:\", action.name)\n",
        "print(\"value:\", value)"
      ]
    },
    {
      "cell_type": "code",
      "execution_count": 47,
      "metadata": {
        "colab": {
          "base_uri": "https://localhost:8080/"
        },
        "id": "TVaYfWcUBDY8",
        "outputId": "a918a912-b694-4d8c-d9bf-f8702e27087b"
      },
      "outputs": [
        {
          "output_type": "stream",
          "name": "stdout",
          "text": [
            "[] [] T2 T0 B0 \n",
            "A  [] [] [] [] \n",
            "[] B1 T1 T3 [] \n",
            "  guards {'B0': ['T0'], 'B1': ['T1'], 'T0': ['T2'], 'T1': ['T3']}\n",
            "  agent ALIVE\n",
            "  towers ['T0: ALIVE', 'T1: ALIVE', 'T2: ALIVE', 'T3: ALIVE']\n",
            "  bases ['B0: ALIVE', 'B1: ALIVE']\n",
            "  terminal False\n",
            "\n",
            "ACTION EAST value 791 \n",
            "\n",
            "[] [] T2 T0 B0 \n",
            "[] A  [] [] [] \n",
            "[] B1 T1 T3 [] \n",
            "  guards {'B0': ['T0'], 'B1': ['T1'], 'T0': ['T2'], 'T1': ['T3']}\n",
            "  agent ALIVE\n",
            "  towers ['T0: ALIVE', 'T1: ALIVE', 'T2: ALIVE', 'T3: ALIVE']\n",
            "  bases ['B0: ALIVE', 'B1: ALIVE']\n",
            "  terminal False\n",
            "\n",
            "ACTION EAST value 792 \n",
            "\n",
            "[] [] T2 T0 B0 \n",
            "[] [] A  [] [] \n",
            "[] B1 T1 T3 [] \n",
            "  guards {'B0': ['T0'], 'B1': ['T1'], 'T0': ['T2'], 'T1': ['T3']}\n",
            "  agent ALIVE\n",
            "  towers ['T0: ALIVE', 'T1: ALIVE', 'T2: ALIVE', 'T3: ALIVE']\n",
            "  bases ['B0: ALIVE', 'B1: ALIVE']\n",
            "  terminal False\n",
            "\n",
            "ACTION NORTH value 793 \n",
            "\n",
            "[] [] A  T0 B0 \n",
            "[] [] [] [] [] \n",
            "[] B1 T1 T3 [] \n",
            "  guards {'B0': ['T0'], 'B1': ['T1'], 'T0': ['T2'], 'T1': ['T3']}\n",
            "  agent ALIVE\n",
            "  towers ['T0: ALIVE', 'T1: ALIVE', 'T2: DEAD', 'T3: ALIVE']\n",
            "  bases ['B0: ALIVE', 'B1: ALIVE']\n",
            "  terminal False\n",
            "\n",
            "ACTION EAST value 794 \n",
            "\n",
            "[] [] [] A  B0 \n",
            "[] [] [] [] [] \n",
            "[] B1 T1 T3 [] \n",
            "  guards {'B0': ['T0'], 'B1': ['T1'], 'T0': ['T2'], 'T1': ['T3']}\n",
            "  agent ALIVE\n",
            "  towers ['T0: DEAD', 'T1: ALIVE', 'T2: DEAD', 'T3: ALIVE']\n",
            "  bases ['B0: ALIVE', 'B1: ALIVE']\n",
            "  terminal False\n",
            "\n",
            "ACTION EAST value 795 \n",
            "\n",
            "[] [] [] [] A  \n",
            "[] [] [] [] [] \n",
            "[] B1 T1 T3 [] \n",
            "  guards {'B0': ['T0'], 'B1': ['T1'], 'T0': ['T2'], 'T1': ['T3']}\n",
            "  agent ALIVE\n",
            "  towers ['T0: DEAD', 'T1: ALIVE', 'T2: DEAD', 'T3: ALIVE']\n",
            "  bases ['B0: DEAD', 'B1: ALIVE']\n",
            "  terminal False\n",
            "\n",
            "ACTION SOUTH value 796 \n",
            "\n",
            "[] [] [] [] [] \n",
            "[] [] [] [] A  \n",
            "[] B1 T1 T3 [] \n",
            "  guards {'B0': ['T0'], 'B1': ['T1'], 'T0': ['T2'], 'T1': ['T3']}\n",
            "  agent ALIVE\n",
            "  towers ['T0: DEAD', 'T1: ALIVE', 'T2: DEAD', 'T3: ALIVE']\n",
            "  bases ['B0: DEAD', 'B1: ALIVE']\n",
            "  terminal False\n",
            "\n",
            "ACTION SOUTH value 797 \n",
            "\n",
            "[] [] [] [] [] \n",
            "[] [] [] [] [] \n",
            "[] B1 T1 T3 A  \n",
            "  guards {'B0': ['T0'], 'B1': ['T1'], 'T0': ['T2'], 'T1': ['T3']}\n",
            "  agent ALIVE\n",
            "  towers ['T0: DEAD', 'T1: ALIVE', 'T2: DEAD', 'T3: ALIVE']\n",
            "  bases ['B0: DEAD', 'B1: ALIVE']\n",
            "  terminal False\n",
            "\n",
            "ACTION WEST value 798 \n",
            "\n",
            "[] [] [] [] [] \n",
            "[] [] [] [] [] \n",
            "[] B1 T1 A  [] \n",
            "  guards {'B0': ['T0'], 'B1': ['T1'], 'T0': ['T2'], 'T1': ['T3']}\n",
            "  agent ALIVE\n",
            "  towers ['T0: DEAD', 'T1: ALIVE', 'T2: DEAD', 'T3: DEAD']\n",
            "  bases ['B0: DEAD', 'B1: ALIVE']\n",
            "  terminal False\n",
            "\n",
            "ACTION WEST value 799 \n",
            "\n",
            "[] [] [] [] [] \n",
            "[] [] [] [] [] \n",
            "[] B1 A  [] [] \n",
            "  guards {'B0': ['T0'], 'B1': ['T1'], 'T0': ['T2'], 'T1': ['T3']}\n",
            "  agent ALIVE\n",
            "  towers ['T0: DEAD', 'T1: DEAD', 'T2: DEAD', 'T3: DEAD']\n",
            "  bases ['B0: DEAD', 'B1: ALIVE']\n",
            "  terminal False\n",
            "\n",
            "ACTION WEST value 800 \n",
            "\n",
            "[] [] [] [] [] \n",
            "[] [] [] [] [] \n",
            "[] A  [] [] [] \n",
            "  guards {'B0': ['T0'], 'B1': ['T1'], 'T0': ['T2'], 'T1': ['T3']}\n",
            "  agent ALIVE\n",
            "  towers ['T0: DEAD', 'T1: DEAD', 'T2: DEAD', 'T3: DEAD']\n",
            "  bases ['B0: DEAD', 'B1: DEAD']\n",
            "  terminal True\n"
          ]
        }
      ],
      "source": [
        "run_maximax(init_state, max_depth=10)"
      ]
    },
    {
      "cell_type": "markdown",
      "metadata": {
        "id": "RuyftVuTBG7n"
      },
      "source": [
        "**Init state 5**"
      ]
    },
    {
      "cell_type": "code",
      "execution_count": 48,
      "metadata": {
        "colab": {
          "base_uri": "https://localhost:8080/"
        },
        "id": "xVclBsqhBIx8",
        "outputId": "7afe4997-61d8-402a-9c05-d25200263759"
      },
      "outputs": [
        {
          "output_type": "stream",
          "name": "stdout",
          "text": [
            "[] T3 [] B1 [] \n",
            "[] [] T2 [] [] \n",
            "A  [] [] [] [] \n",
            "[] T1 [] T0 [] \n",
            "[] [] T4 [] B0 \n",
            "  guards {'B0': ['T0'], 'B1': ['T1'], 'T1': ['T2'], 'T0': ['T3', 'T4']}\n",
            "  agent ALIVE\n",
            "  towers ['T3: ALIVE', 'T2: ALIVE', 'T1: ALIVE', 'T0: ALIVE', 'T4: ALIVE']\n",
            "  bases ['B0: ALIVE', 'B1: ALIVE']\n",
            "  terminal False\n"
          ]
        }
      ],
      "source": [
        "init_state = deepcopy(init_state5)\n",
        "pretty_print(init_state)"
      ]
    },
    {
      "cell_type": "code",
      "execution_count": 49,
      "metadata": {
        "colab": {
          "base_uri": "https://localhost:8080/"
        },
        "id": "o-kRuB7zBKyw",
        "outputId": "74a3dc1f-71dd-49d4-9773-98cc10e11a0e"
      },
      "outputs": [
        {
          "output_type": "stream",
          "name": "stdout",
          "text": [
            "action: EAST\n",
            "value: 883\n"
          ]
        }
      ],
      "source": [
        "action, value = maximax(init_state, max_depth=17)\n",
        "print(\"action:\", action.name)\n",
        "print(\"value:\", value)"
      ]
    },
    {
      "cell_type": "code",
      "execution_count": 50,
      "metadata": {
        "colab": {
          "base_uri": "https://localhost:8080/"
        },
        "id": "8KothLUMBNdz",
        "outputId": "a0550ca4-b66d-400e-e6a4-700f17324718"
      },
      "outputs": [
        {
          "output_type": "stream",
          "name": "stdout",
          "text": [
            "[] T3 [] B1 [] \n",
            "[] [] T2 [] [] \n",
            "A  [] [] [] [] \n",
            "[] T1 [] T0 [] \n",
            "[] [] T4 [] B0 \n",
            "  guards {'B0': ['T0'], 'B1': ['T1'], 'T1': ['T2'], 'T0': ['T3', 'T4']}\n",
            "  agent ALIVE\n",
            "  towers ['T3: ALIVE', 'T2: ALIVE', 'T1: ALIVE', 'T0: ALIVE', 'T4: ALIVE']\n",
            "  bases ['B0: ALIVE', 'B1: ALIVE']\n",
            "  terminal False\n",
            "\n",
            "ACTION EAST value 883 \n",
            "\n",
            "[] T3 [] B1 [] \n",
            "[] [] T2 [] [] \n",
            "[] A  [] [] [] \n",
            "[] T1 [] T0 [] \n",
            "[] [] T4 [] B0 \n",
            "  guards {'B0': ['T0'], 'B1': ['T1'], 'T1': ['T2'], 'T0': ['T3', 'T4']}\n",
            "  agent ALIVE\n",
            "  towers ['T3: ALIVE', 'T2: ALIVE', 'T1: ALIVE', 'T0: ALIVE', 'T4: ALIVE']\n",
            "  bases ['B0: ALIVE', 'B1: ALIVE']\n",
            "  terminal False\n",
            "\n",
            "ACTION EAST value 884 \n",
            "\n",
            "[] T3 [] B1 [] \n",
            "[] [] T2 [] [] \n",
            "[] [] A  [] [] \n",
            "[] T1 [] T0 [] \n",
            "[] [] T4 [] B0 \n",
            "  guards {'B0': ['T0'], 'B1': ['T1'], 'T1': ['T2'], 'T0': ['T3', 'T4']}\n",
            "  agent ALIVE\n",
            "  towers ['T3: ALIVE', 'T2: ALIVE', 'T1: ALIVE', 'T0: ALIVE', 'T4: ALIVE']\n",
            "  bases ['B0: ALIVE', 'B1: ALIVE']\n",
            "  terminal False\n",
            "\n",
            "ACTION NORTH value 885 \n",
            "\n",
            "[] T3 [] B1 [] \n",
            "[] [] A  [] [] \n",
            "[] [] [] [] [] \n",
            "[] T1 [] T0 [] \n",
            "[] [] T4 [] B0 \n",
            "  guards {'B0': ['T0'], 'B1': ['T1'], 'T1': ['T2'], 'T0': ['T3', 'T4']}\n",
            "  agent ALIVE\n",
            "  towers ['T3: ALIVE', 'T2: DEAD', 'T1: ALIVE', 'T0: ALIVE', 'T4: ALIVE']\n",
            "  bases ['B0: ALIVE', 'B1: ALIVE']\n",
            "  terminal False\n",
            "\n",
            "ACTION SOUTH value 886 \n",
            "\n",
            "[] T3 [] B1 [] \n",
            "[] [] [] [] [] \n",
            "[] [] A  [] [] \n",
            "[] T1 [] T0 [] \n",
            "[] [] T4 [] B0 \n",
            "  guards {'B0': ['T0'], 'B1': ['T1'], 'T1': ['T2'], 'T0': ['T3', 'T4']}\n",
            "  agent ALIVE\n",
            "  towers ['T3: ALIVE', 'T2: DEAD', 'T1: ALIVE', 'T0: ALIVE', 'T4: ALIVE']\n",
            "  bases ['B0: ALIVE', 'B1: ALIVE']\n",
            "  terminal False\n",
            "\n",
            "ACTION SOUTH value 887 \n",
            "\n",
            "[] T3 [] B1 [] \n",
            "[] [] [] [] [] \n",
            "[] [] [] [] [] \n",
            "[] T1 A  T0 [] \n",
            "[] [] T4 [] B0 \n",
            "  guards {'B0': ['T0'], 'B1': ['T1'], 'T1': ['T2'], 'T0': ['T3', 'T4']}\n",
            "  agent ALIVE\n",
            "  towers ['T3: ALIVE', 'T2: DEAD', 'T1: ALIVE', 'T0: ALIVE', 'T4: ALIVE']\n",
            "  bases ['B0: ALIVE', 'B1: ALIVE']\n",
            "  terminal False\n",
            "\n",
            "ACTION SOUTH value 888 \n",
            "\n",
            "[] T3 [] B1 [] \n",
            "[] [] [] [] [] \n",
            "[] [] [] [] [] \n",
            "[] T1 [] T0 [] \n",
            "[] [] A  [] B0 \n",
            "  guards {'B0': ['T0'], 'B1': ['T1'], 'T1': ['T2'], 'T0': ['T3', 'T4']}\n",
            "  agent ALIVE\n",
            "  towers ['T3: ALIVE', 'T2: DEAD', 'T1: ALIVE', 'T0: ALIVE', 'T4: DEAD']\n",
            "  bases ['B0: ALIVE', 'B1: ALIVE']\n",
            "  terminal False\n",
            "\n",
            "ACTION NORTH value 889 \n",
            "\n",
            "[] T3 [] B1 [] \n",
            "[] [] [] [] [] \n",
            "[] [] [] [] [] \n",
            "[] T1 A  T0 [] \n",
            "[] [] [] [] B0 \n",
            "  guards {'B0': ['T0'], 'B1': ['T1'], 'T1': ['T2'], 'T0': ['T3', 'T4']}\n",
            "  agent ALIVE\n",
            "  towers ['T3: ALIVE', 'T2: DEAD', 'T1: ALIVE', 'T0: ALIVE', 'T4: DEAD']\n",
            "  bases ['B0: ALIVE', 'B1: ALIVE']\n",
            "  terminal False\n",
            "\n",
            "ACTION WEST value 890 \n",
            "\n",
            "[] T3 [] B1 [] \n",
            "[] [] [] [] [] \n",
            "[] [] [] [] [] \n",
            "[] A  [] T0 [] \n",
            "[] [] [] [] B0 \n",
            "  guards {'B0': ['T0'], 'B1': ['T1'], 'T1': ['T2'], 'T0': ['T3', 'T4']}\n",
            "  agent ALIVE\n",
            "  towers ['T3: ALIVE', 'T2: DEAD', 'T1: DEAD', 'T0: ALIVE', 'T4: DEAD']\n",
            "  bases ['B0: ALIVE', 'B1: ALIVE']\n",
            "  terminal False\n",
            "\n",
            "ACTION NORTH value 891 \n",
            "\n",
            "[] T3 [] B1 [] \n",
            "[] [] [] [] [] \n",
            "[] A  [] [] [] \n",
            "[] [] [] T0 [] \n",
            "[] [] [] [] B0 \n",
            "  guards {'B0': ['T0'], 'B1': ['T1'], 'T1': ['T2'], 'T0': ['T3', 'T4']}\n",
            "  agent ALIVE\n",
            "  towers ['T3: ALIVE', 'T2: DEAD', 'T1: DEAD', 'T0: ALIVE', 'T4: DEAD']\n",
            "  bases ['B0: ALIVE', 'B1: ALIVE']\n",
            "  terminal False\n",
            "\n",
            "ACTION NORTH value 892 \n",
            "\n",
            "[] T3 [] B1 [] \n",
            "[] A  [] [] [] \n",
            "[] [] [] [] [] \n",
            "[] [] [] T0 [] \n",
            "[] [] [] [] B0 \n",
            "  guards {'B0': ['T0'], 'B1': ['T1'], 'T1': ['T2'], 'T0': ['T3', 'T4']}\n",
            "  agent ALIVE\n",
            "  towers ['T3: ALIVE', 'T2: DEAD', 'T1: DEAD', 'T0: ALIVE', 'T4: DEAD']\n",
            "  bases ['B0: ALIVE', 'B1: ALIVE']\n",
            "  terminal False\n",
            "\n",
            "ACTION NORTH value 893 \n",
            "\n",
            "[] A  [] B1 [] \n",
            "[] [] [] [] [] \n",
            "[] [] [] [] [] \n",
            "[] [] [] T0 [] \n",
            "[] [] [] [] B0 \n",
            "  guards {'B0': ['T0'], 'B1': ['T1'], 'T1': ['T2'], 'T0': ['T3', 'T4']}\n",
            "  agent ALIVE\n",
            "  towers ['T3: DEAD', 'T2: DEAD', 'T1: DEAD', 'T0: ALIVE', 'T4: DEAD']\n",
            "  bases ['B0: ALIVE', 'B1: ALIVE']\n",
            "  terminal False\n",
            "\n",
            "ACTION EAST value 894 \n",
            "\n",
            "[] [] A  B1 [] \n",
            "[] [] [] [] [] \n",
            "[] [] [] [] [] \n",
            "[] [] [] T0 [] \n",
            "[] [] [] [] B0 \n",
            "  guards {'B0': ['T0'], 'B1': ['T1'], 'T1': ['T2'], 'T0': ['T3', 'T4']}\n",
            "  agent ALIVE\n",
            "  towers ['T3: DEAD', 'T2: DEAD', 'T1: DEAD', 'T0: ALIVE', 'T4: DEAD']\n",
            "  bases ['B0: ALIVE', 'B1: ALIVE']\n",
            "  terminal False\n",
            "\n",
            "ACTION EAST value 895 \n",
            "\n",
            "[] [] [] A  [] \n",
            "[] [] [] [] [] \n",
            "[] [] [] [] [] \n",
            "[] [] [] T0 [] \n",
            "[] [] [] [] B0 \n",
            "  guards {'B0': ['T0'], 'B1': ['T1'], 'T1': ['T2'], 'T0': ['T3', 'T4']}\n",
            "  agent ALIVE\n",
            "  towers ['T3: DEAD', 'T2: DEAD', 'T1: DEAD', 'T0: ALIVE', 'T4: DEAD']\n",
            "  bases ['B0: ALIVE', 'B1: DEAD']\n",
            "  terminal False\n",
            "\n",
            "ACTION SOUTH value 896 \n",
            "\n",
            "[] [] [] [] [] \n",
            "[] [] [] A  [] \n",
            "[] [] [] [] [] \n",
            "[] [] [] T0 [] \n",
            "[] [] [] [] B0 \n",
            "  guards {'B0': ['T0'], 'B1': ['T1'], 'T1': ['T2'], 'T0': ['T3', 'T4']}\n",
            "  agent ALIVE\n",
            "  towers ['T3: DEAD', 'T2: DEAD', 'T1: DEAD', 'T0: ALIVE', 'T4: DEAD']\n",
            "  bases ['B0: ALIVE', 'B1: DEAD']\n",
            "  terminal False\n",
            "\n",
            "ACTION SOUTH value 897 \n",
            "\n",
            "[] [] [] [] [] \n",
            "[] [] [] [] [] \n",
            "[] [] [] A  [] \n",
            "[] [] [] T0 [] \n",
            "[] [] [] [] B0 \n",
            "  guards {'B0': ['T0'], 'B1': ['T1'], 'T1': ['T2'], 'T0': ['T3', 'T4']}\n",
            "  agent ALIVE\n",
            "  towers ['T3: DEAD', 'T2: DEAD', 'T1: DEAD', 'T0: ALIVE', 'T4: DEAD']\n",
            "  bases ['B0: ALIVE', 'B1: DEAD']\n",
            "  terminal False\n",
            "\n",
            "ACTION SOUTH value 898 \n",
            "\n",
            "[] [] [] [] [] \n",
            "[] [] [] [] [] \n",
            "[] [] [] [] [] \n",
            "[] [] [] A  [] \n",
            "[] [] [] [] B0 \n",
            "  guards {'B0': ['T0'], 'B1': ['T1'], 'T1': ['T2'], 'T0': ['T3', 'T4']}\n",
            "  agent ALIVE\n",
            "  towers ['T3: DEAD', 'T2: DEAD', 'T1: DEAD', 'T0: DEAD', 'T4: DEAD']\n",
            "  bases ['B0: ALIVE', 'B1: DEAD']\n",
            "  terminal False\n",
            "\n",
            "ACTION EAST value 899 \n",
            "\n",
            "[] [] [] [] [] \n",
            "[] [] [] [] [] \n",
            "[] [] [] [] [] \n",
            "[] [] [] [] A  \n",
            "[] [] [] [] B0 \n",
            "  guards {'B0': ['T0'], 'B1': ['T1'], 'T1': ['T2'], 'T0': ['T3', 'T4']}\n",
            "  agent ALIVE\n",
            "  towers ['T3: DEAD', 'T2: DEAD', 'T1: DEAD', 'T0: DEAD', 'T4: DEAD']\n",
            "  bases ['B0: ALIVE', 'B1: DEAD']\n",
            "  terminal False\n",
            "\n",
            "ACTION SOUTH value 900 \n",
            "\n",
            "[] [] [] [] [] \n",
            "[] [] [] [] [] \n",
            "[] [] [] [] [] \n",
            "[] [] [] [] [] \n",
            "[] [] [] [] A  \n",
            "  guards {'B0': ['T0'], 'B1': ['T1'], 'T1': ['T2'], 'T0': ['T3', 'T4']}\n",
            "  agent ALIVE\n",
            "  towers ['T3: DEAD', 'T2: DEAD', 'T1: DEAD', 'T0: DEAD', 'T4: DEAD']\n",
            "  bases ['B0: DEAD', 'B1: DEAD']\n",
            "  terminal True\n"
          ]
        }
      ],
      "source": [
        "run_maximax(init_state, max_depth=17)"
      ]
    },
    {
      "cell_type": "markdown",
      "metadata": {
        "id": "g0EvmEUNBOY1"
      },
      "source": [
        "**Init state 6**"
      ]
    },
    {
      "cell_type": "code",
      "execution_count": 51,
      "metadata": {
        "id": "h9epEwn9BP1g",
        "colab": {
          "base_uri": "https://localhost:8080/"
        },
        "outputId": "3be6fa13-4d17-4278-da20-7f25c527b9b8"
      },
      "outputs": [
        {
          "output_type": "stream",
          "name": "stdout",
          "text": [
            "A  [] [] [] [] [] [] \n",
            "[] [] [] [] [] [] [] \n",
            "[] [] [] [] [] [] [] \n",
            "B0 [] [] [] [] [] [] \n",
            "[] [] [] [] [] [] [] \n",
            "[] [] [] [] [] [] [] \n",
            "[] [] [] T0 [] [] T1 \n",
            "  guards {'B0': ['T0'], 'T0': ['T1']}\n",
            "  agent ALIVE\n",
            "  towers ['T0: ALIVE', 'T1: ALIVE']\n",
            "  bases ['B0: ALIVE']\n",
            "  terminal False\n"
          ]
        }
      ],
      "source": [
        "init_state = deepcopy(init_state6)\n",
        "pretty_print(init_state)"
      ]
    },
    {
      "cell_type": "code",
      "execution_count": 52,
      "metadata": {
        "id": "LaQ6b4_iBRzb",
        "colab": {
          "base_uri": "https://localhost:8080/"
        },
        "outputId": "c4b9e21b-5f99-4452-e4a2-3fbfb0cd7a58"
      },
      "outputs": [
        {
          "output_type": "stream",
          "name": "stdout",
          "text": [
            "action: EAST\n",
            "value: 380\n"
          ]
        }
      ],
      "source": [
        "action, value = maximax(init_state, max_depth=30)\n",
        "print(\"action:\", action.name)\n",
        "print(\"value:\", value)"
      ]
    },
    {
      "cell_type": "code",
      "execution_count": 53,
      "metadata": {
        "id": "WKJDXWmXBTV_",
        "colab": {
          "base_uri": "https://localhost:8080/"
        },
        "outputId": "7cf906cf-b10b-464f-f8f9-c68d438abf55"
      },
      "outputs": [
        {
          "output_type": "stream",
          "name": "stdout",
          "text": [
            "A  [] [] [] [] [] [] \n",
            "[] [] [] [] [] [] [] \n",
            "[] [] [] [] [] [] [] \n",
            "B0 [] [] [] [] [] [] \n",
            "[] [] [] [] [] [] [] \n",
            "[] [] [] [] [] [] [] \n",
            "[] [] [] T0 [] [] T1 \n",
            "  guards {'B0': ['T0'], 'T0': ['T1']}\n",
            "  agent ALIVE\n",
            "  towers ['T0: ALIVE', 'T1: ALIVE']\n",
            "  bases ['B0: ALIVE']\n",
            "  terminal False\n",
            "\n",
            "ACTION EAST value 380 \n",
            "\n",
            "[] A  [] [] [] [] [] \n",
            "[] [] [] [] [] [] [] \n",
            "[] [] [] [] [] [] [] \n",
            "B0 [] [] [] [] [] [] \n",
            "[] [] [] [] [] [] [] \n",
            "[] [] [] [] [] [] [] \n",
            "[] [] [] T0 [] [] T1 \n",
            "  guards {'B0': ['T0'], 'T0': ['T1']}\n",
            "  agent ALIVE\n",
            "  towers ['T0: ALIVE', 'T1: ALIVE']\n",
            "  bases ['B0: ALIVE']\n",
            "  terminal False\n",
            "\n",
            "ACTION EAST value 381 \n",
            "\n",
            "[] [] A  [] [] [] [] \n",
            "[] [] [] [] [] [] [] \n",
            "[] [] [] [] [] [] [] \n",
            "B0 [] [] [] [] [] [] \n",
            "[] [] [] [] [] [] [] \n",
            "[] [] [] [] [] [] [] \n",
            "[] [] [] T0 [] [] T1 \n",
            "  guards {'B0': ['T0'], 'T0': ['T1']}\n",
            "  agent ALIVE\n",
            "  towers ['T0: ALIVE', 'T1: ALIVE']\n",
            "  bases ['B0: ALIVE']\n",
            "  terminal False\n",
            "\n",
            "ACTION EAST value 382 \n",
            "\n",
            "[] [] [] A  [] [] [] \n",
            "[] [] [] [] [] [] [] \n",
            "[] [] [] [] [] [] [] \n",
            "B0 [] [] [] [] [] [] \n",
            "[] [] [] [] [] [] [] \n",
            "[] [] [] [] [] [] [] \n",
            "[] [] [] T0 [] [] T1 \n",
            "  guards {'B0': ['T0'], 'T0': ['T1']}\n",
            "  agent ALIVE\n",
            "  towers ['T0: ALIVE', 'T1: ALIVE']\n",
            "  bases ['B0: ALIVE']\n",
            "  terminal False\n",
            "\n",
            "ACTION EAST value 383 \n",
            "\n",
            "[] [] [] [] A  [] [] \n",
            "[] [] [] [] [] [] [] \n",
            "[] [] [] [] [] [] [] \n",
            "B0 [] [] [] [] [] [] \n",
            "[] [] [] [] [] [] [] \n",
            "[] [] [] [] [] [] [] \n",
            "[] [] [] T0 [] [] T1 \n",
            "  guards {'B0': ['T0'], 'T0': ['T1']}\n",
            "  agent ALIVE\n",
            "  towers ['T0: ALIVE', 'T1: ALIVE']\n",
            "  bases ['B0: ALIVE']\n",
            "  terminal False\n",
            "\n",
            "ACTION EAST value 384 \n",
            "\n",
            "[] [] [] [] [] A  [] \n",
            "[] [] [] [] [] [] [] \n",
            "[] [] [] [] [] [] [] \n",
            "B0 [] [] [] [] [] [] \n",
            "[] [] [] [] [] [] [] \n",
            "[] [] [] [] [] [] [] \n",
            "[] [] [] T0 [] [] T1 \n",
            "  guards {'B0': ['T0'], 'T0': ['T1']}\n",
            "  agent ALIVE\n",
            "  towers ['T0: ALIVE', 'T1: ALIVE']\n",
            "  bases ['B0: ALIVE']\n",
            "  terminal False\n",
            "\n",
            "ACTION EAST value 385 \n",
            "\n",
            "[] [] [] [] [] [] A  \n",
            "[] [] [] [] [] [] [] \n",
            "[] [] [] [] [] [] [] \n",
            "B0 [] [] [] [] [] [] \n",
            "[] [] [] [] [] [] [] \n",
            "[] [] [] [] [] [] [] \n",
            "[] [] [] T0 [] [] T1 \n",
            "  guards {'B0': ['T0'], 'T0': ['T1']}\n",
            "  agent ALIVE\n",
            "  towers ['T0: ALIVE', 'T1: ALIVE']\n",
            "  bases ['B0: ALIVE']\n",
            "  terminal False\n",
            "\n",
            "ACTION SOUTH value 386 \n",
            "\n",
            "[] [] [] [] [] [] [] \n",
            "[] [] [] [] [] [] A  \n",
            "[] [] [] [] [] [] [] \n",
            "B0 [] [] [] [] [] [] \n",
            "[] [] [] [] [] [] [] \n",
            "[] [] [] [] [] [] [] \n",
            "[] [] [] T0 [] [] T1 \n",
            "  guards {'B0': ['T0'], 'T0': ['T1']}\n",
            "  agent ALIVE\n",
            "  towers ['T0: ALIVE', 'T1: ALIVE']\n",
            "  bases ['B0: ALIVE']\n",
            "  terminal False\n",
            "\n",
            "ACTION SOUTH value 387 \n",
            "\n",
            "[] [] [] [] [] [] [] \n",
            "[] [] [] [] [] [] [] \n",
            "[] [] [] [] [] [] A  \n",
            "B0 [] [] [] [] [] [] \n",
            "[] [] [] [] [] [] [] \n",
            "[] [] [] [] [] [] [] \n",
            "[] [] [] T0 [] [] T1 \n",
            "  guards {'B0': ['T0'], 'T0': ['T1']}\n",
            "  agent ALIVE\n",
            "  towers ['T0: ALIVE', 'T1: ALIVE']\n",
            "  bases ['B0: ALIVE']\n",
            "  terminal False\n",
            "\n",
            "ACTION SOUTH value 388 \n",
            "\n",
            "[] [] [] [] [] [] [] \n",
            "[] [] [] [] [] [] [] \n",
            "[] [] [] [] [] [] [] \n",
            "B0 [] [] [] [] [] A  \n",
            "[] [] [] [] [] [] [] \n",
            "[] [] [] [] [] [] [] \n",
            "[] [] [] T0 [] [] T1 \n",
            "  guards {'B0': ['T0'], 'T0': ['T1']}\n",
            "  agent ALIVE\n",
            "  towers ['T0: ALIVE', 'T1: ALIVE']\n",
            "  bases ['B0: ALIVE']\n",
            "  terminal False\n",
            "\n",
            "ACTION SOUTH value 389 \n",
            "\n",
            "[] [] [] [] [] [] [] \n",
            "[] [] [] [] [] [] [] \n",
            "[] [] [] [] [] [] [] \n",
            "B0 [] [] [] [] [] [] \n",
            "[] [] [] [] [] [] A  \n",
            "[] [] [] [] [] [] [] \n",
            "[] [] [] T0 [] [] T1 \n",
            "  guards {'B0': ['T0'], 'T0': ['T1']}\n",
            "  agent ALIVE\n",
            "  towers ['T0: ALIVE', 'T1: ALIVE']\n",
            "  bases ['B0: ALIVE']\n",
            "  terminal False\n",
            "\n",
            "ACTION SOUTH value 390 \n",
            "\n",
            "[] [] [] [] [] [] [] \n",
            "[] [] [] [] [] [] [] \n",
            "[] [] [] [] [] [] [] \n",
            "B0 [] [] [] [] [] [] \n",
            "[] [] [] [] [] [] [] \n",
            "[] [] [] [] [] [] A  \n",
            "[] [] [] T0 [] [] T1 \n",
            "  guards {'B0': ['T0'], 'T0': ['T1']}\n",
            "  agent ALIVE\n",
            "  towers ['T0: ALIVE', 'T1: ALIVE']\n",
            "  bases ['B0: ALIVE']\n",
            "  terminal False\n",
            "\n",
            "ACTION SOUTH value 391 \n",
            "\n",
            "[] [] [] [] [] [] [] \n",
            "[] [] [] [] [] [] [] \n",
            "[] [] [] [] [] [] [] \n",
            "B0 [] [] [] [] [] [] \n",
            "[] [] [] [] [] [] [] \n",
            "[] [] [] [] [] [] [] \n",
            "[] [] [] T0 [] [] A  \n",
            "  guards {'B0': ['T0'], 'T0': ['T1']}\n",
            "  agent ALIVE\n",
            "  towers ['T0: ALIVE', 'T1: DEAD']\n",
            "  bases ['B0: ALIVE']\n",
            "  terminal False\n",
            "\n",
            "ACTION WEST value 392 \n",
            "\n",
            "[] [] [] [] [] [] [] \n",
            "[] [] [] [] [] [] [] \n",
            "[] [] [] [] [] [] [] \n",
            "B0 [] [] [] [] [] [] \n",
            "[] [] [] [] [] [] [] \n",
            "[] [] [] [] [] [] [] \n",
            "[] [] [] T0 [] A  [] \n",
            "  guards {'B0': ['T0'], 'T0': ['T1']}\n",
            "  agent ALIVE\n",
            "  towers ['T0: ALIVE', 'T1: DEAD']\n",
            "  bases ['B0: ALIVE']\n",
            "  terminal False\n",
            "\n",
            "ACTION WEST value 393 \n",
            "\n",
            "[] [] [] [] [] [] [] \n",
            "[] [] [] [] [] [] [] \n",
            "[] [] [] [] [] [] [] \n",
            "B0 [] [] [] [] [] [] \n",
            "[] [] [] [] [] [] [] \n",
            "[] [] [] [] [] [] [] \n",
            "[] [] [] T0 A  [] [] \n",
            "  guards {'B0': ['T0'], 'T0': ['T1']}\n",
            "  agent ALIVE\n",
            "  towers ['T0: ALIVE', 'T1: DEAD']\n",
            "  bases ['B0: ALIVE']\n",
            "  terminal False\n",
            "\n",
            "ACTION WEST value 394 \n",
            "\n",
            "[] [] [] [] [] [] [] \n",
            "[] [] [] [] [] [] [] \n",
            "[] [] [] [] [] [] [] \n",
            "B0 [] [] [] [] [] [] \n",
            "[] [] [] [] [] [] [] \n",
            "[] [] [] [] [] [] [] \n",
            "[] [] [] A  [] [] [] \n",
            "  guards {'B0': ['T0'], 'T0': ['T1']}\n",
            "  agent ALIVE\n",
            "  towers ['T0: DEAD', 'T1: DEAD']\n",
            "  bases ['B0: ALIVE']\n",
            "  terminal False\n",
            "\n",
            "ACTION NORTH value 395 \n",
            "\n",
            "[] [] [] [] [] [] [] \n",
            "[] [] [] [] [] [] [] \n",
            "[] [] [] [] [] [] [] \n",
            "B0 [] [] [] [] [] [] \n",
            "[] [] [] [] [] [] [] \n",
            "[] [] [] A  [] [] [] \n",
            "[] [] [] [] [] [] [] \n",
            "  guards {'B0': ['T0'], 'T0': ['T1']}\n",
            "  agent ALIVE\n",
            "  towers ['T0: DEAD', 'T1: DEAD']\n",
            "  bases ['B0: ALIVE']\n",
            "  terminal False\n",
            "\n",
            "ACTION NORTH value 396 \n",
            "\n",
            "[] [] [] [] [] [] [] \n",
            "[] [] [] [] [] [] [] \n",
            "[] [] [] [] [] [] [] \n",
            "B0 [] [] [] [] [] [] \n",
            "[] [] [] A  [] [] [] \n",
            "[] [] [] [] [] [] [] \n",
            "[] [] [] [] [] [] [] \n",
            "  guards {'B0': ['T0'], 'T0': ['T1']}\n",
            "  agent ALIVE\n",
            "  towers ['T0: DEAD', 'T1: DEAD']\n",
            "  bases ['B0: ALIVE']\n",
            "  terminal False\n",
            "\n",
            "ACTION NORTH value 397 \n",
            "\n",
            "[] [] [] [] [] [] [] \n",
            "[] [] [] [] [] [] [] \n",
            "[] [] [] [] [] [] [] \n",
            "B0 [] [] A  [] [] [] \n",
            "[] [] [] [] [] [] [] \n",
            "[] [] [] [] [] [] [] \n",
            "[] [] [] [] [] [] [] \n",
            "  guards {'B0': ['T0'], 'T0': ['T1']}\n",
            "  agent ALIVE\n",
            "  towers ['T0: DEAD', 'T1: DEAD']\n",
            "  bases ['B0: ALIVE']\n",
            "  terminal False\n",
            "\n",
            "ACTION WEST value 398 \n",
            "\n",
            "[] [] [] [] [] [] [] \n",
            "[] [] [] [] [] [] [] \n",
            "[] [] [] [] [] [] [] \n",
            "B0 [] A  [] [] [] [] \n",
            "[] [] [] [] [] [] [] \n",
            "[] [] [] [] [] [] [] \n",
            "[] [] [] [] [] [] [] \n",
            "  guards {'B0': ['T0'], 'T0': ['T1']}\n",
            "  agent ALIVE\n",
            "  towers ['T0: DEAD', 'T1: DEAD']\n",
            "  bases ['B0: ALIVE']\n",
            "  terminal False\n",
            "\n",
            "ACTION WEST value 399 \n",
            "\n",
            "[] [] [] [] [] [] [] \n",
            "[] [] [] [] [] [] [] \n",
            "[] [] [] [] [] [] [] \n",
            "B0 A  [] [] [] [] [] \n",
            "[] [] [] [] [] [] [] \n",
            "[] [] [] [] [] [] [] \n",
            "[] [] [] [] [] [] [] \n",
            "  guards {'B0': ['T0'], 'T0': ['T1']}\n",
            "  agent ALIVE\n",
            "  towers ['T0: DEAD', 'T1: DEAD']\n",
            "  bases ['B0: ALIVE']\n",
            "  terminal False\n",
            "\n",
            "ACTION WEST value 400 \n",
            "\n",
            "[] [] [] [] [] [] [] \n",
            "[] [] [] [] [] [] [] \n",
            "[] [] [] [] [] [] [] \n",
            "A  [] [] [] [] [] [] \n",
            "[] [] [] [] [] [] [] \n",
            "[] [] [] [] [] [] [] \n",
            "[] [] [] [] [] [] [] \n",
            "  guards {'B0': ['T0'], 'T0': ['T1']}\n",
            "  agent ALIVE\n",
            "  towers ['T0: DEAD', 'T1: DEAD']\n",
            "  bases ['B0: DEAD']\n",
            "  terminal True\n"
          ]
        }
      ],
      "source": [
        "run_maximax(init_state, max_depth=30)"
      ]
    },
    {
      "cell_type": "code",
      "execution_count": 53,
      "metadata": {
        "id": "2cdD4z2jMCAR"
      },
      "outputs": [],
      "source": []
    }
  ],
  "metadata": {
    "colab": {
      "provenance": []
    },
    "kernelspec": {
      "display_name": "Python 3",
      "name": "python3"
    },
    "language_info": {
      "name": "python"
    }
  },
  "nbformat": 4,
  "nbformat_minor": 0
}